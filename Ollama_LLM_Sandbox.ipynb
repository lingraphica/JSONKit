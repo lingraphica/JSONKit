{
  "nbformat": 4,
  "nbformat_minor": 0,
  "metadata": {
    "colab": {
      "provenance": [],
      "gpuType": "T4",
      "include_colab_link": true
    },
    "kernelspec": {
      "name": "python3",
      "display_name": "Python 3"
    },
    "language_info": {
      "name": "python"
    },
    "accelerator": "GPU",
    "widgets": {
      "application/vnd.jupyter.widget-state+json": {
        "01ba7acd8d814fe6acbce3b55cf4632a": {
          "model_module": "@jupyter-widgets/controls",
          "model_name": "DropdownModel",
          "model_module_version": "1.5.0",
          "state": {
            "_dom_classes": [],
            "_model_module": "@jupyter-widgets/controls",
            "_model_module_version": "1.5.0",
            "_model_name": "DropdownModel",
            "_options_labels": [
              "deepseek-r1:1.5b",
              "gemma3:1b",
              "granite3.1-moe:1b",
              "granite3.1-moe:3b",
              "ollama llama3.2:1b",
              "phi3",
              "qwen2.5:0.5b",
              "qwen2.5:1.5b",
              "smollm2:1.7b",
              "smollm2:135m",
              "tinyllama",
              "erwan2/DeepSeek-R1-Distill-Qwen-1.5B"
            ],
            "_view_count": null,
            "_view_module": "@jupyter-widgets/controls",
            "_view_module_version": "1.5.0",
            "_view_name": "DropdownView",
            "description": "Select model:",
            "description_tooltip": null,
            "disabled": false,
            "index": 7,
            "layout": "IPY_MODEL_4e2354a47f30415eb97d765577ddb386",
            "style": "IPY_MODEL_18deba622c864f2f9b5ee381d4d3e358"
          }
        },
        "4e2354a47f30415eb97d765577ddb386": {
          "model_module": "@jupyter-widgets/base",
          "model_name": "LayoutModel",
          "model_module_version": "1.2.0",
          "state": {
            "_model_module": "@jupyter-widgets/base",
            "_model_module_version": "1.2.0",
            "_model_name": "LayoutModel",
            "_view_count": null,
            "_view_module": "@jupyter-widgets/base",
            "_view_module_version": "1.2.0",
            "_view_name": "LayoutView",
            "align_content": null,
            "align_items": null,
            "align_self": null,
            "border": null,
            "bottom": null,
            "display": null,
            "flex": null,
            "flex_flow": null,
            "grid_area": null,
            "grid_auto_columns": null,
            "grid_auto_flow": null,
            "grid_auto_rows": null,
            "grid_column": null,
            "grid_gap": null,
            "grid_row": null,
            "grid_template_areas": null,
            "grid_template_columns": null,
            "grid_template_rows": null,
            "height": null,
            "justify_content": null,
            "justify_items": null,
            "left": null,
            "margin": null,
            "max_height": null,
            "max_width": null,
            "min_height": null,
            "min_width": null,
            "object_fit": null,
            "object_position": null,
            "order": null,
            "overflow": null,
            "overflow_x": null,
            "overflow_y": null,
            "padding": null,
            "right": null,
            "top": null,
            "visibility": null,
            "width": "300px"
          }
        },
        "18deba622c864f2f9b5ee381d4d3e358": {
          "model_module": "@jupyter-widgets/controls",
          "model_name": "DescriptionStyleModel",
          "model_module_version": "1.5.0",
          "state": {
            "_model_module": "@jupyter-widgets/controls",
            "_model_module_version": "1.5.0",
            "_model_name": "DescriptionStyleModel",
            "_view_count": null,
            "_view_module": "@jupyter-widgets/base",
            "_view_module_version": "1.2.0",
            "_view_name": "StyleView",
            "description_width": "initial"
          }
        },
        "eafd577d8f5d47beb6a4b6fe68e754cb": {
          "model_module": "@jupyter-widgets/controls",
          "model_name": "ButtonModel",
          "model_module_version": "1.5.0",
          "state": {
            "_dom_classes": [],
            "_model_module": "@jupyter-widgets/controls",
            "_model_module_version": "1.5.0",
            "_model_name": "ButtonModel",
            "_view_count": null,
            "_view_module": "@jupyter-widgets/controls",
            "_view_module_version": "1.5.0",
            "_view_name": "ButtonView",
            "button_style": "primary",
            "description": "Pull and Use Selected Model",
            "disabled": false,
            "icon": "",
            "layout": "IPY_MODEL_4529b696e060435bb24a224273ef96d8",
            "style": "IPY_MODEL_2aad5d296ee84b65b131332a0088ed46",
            "tooltip": "Click to pull the selected model"
          }
        },
        "4529b696e060435bb24a224273ef96d8": {
          "model_module": "@jupyter-widgets/base",
          "model_name": "LayoutModel",
          "model_module_version": "1.2.0",
          "state": {
            "_model_module": "@jupyter-widgets/base",
            "_model_module_version": "1.2.0",
            "_model_name": "LayoutModel",
            "_view_count": null,
            "_view_module": "@jupyter-widgets/base",
            "_view_module_version": "1.2.0",
            "_view_name": "LayoutView",
            "align_content": null,
            "align_items": null,
            "align_self": null,
            "border": null,
            "bottom": null,
            "display": null,
            "flex": null,
            "flex_flow": null,
            "grid_area": null,
            "grid_auto_columns": null,
            "grid_auto_flow": null,
            "grid_auto_rows": null,
            "grid_column": null,
            "grid_gap": null,
            "grid_row": null,
            "grid_template_areas": null,
            "grid_template_columns": null,
            "grid_template_rows": null,
            "height": null,
            "justify_content": null,
            "justify_items": null,
            "left": null,
            "margin": "10px 0",
            "max_height": null,
            "max_width": null,
            "min_height": null,
            "min_width": null,
            "object_fit": null,
            "object_position": null,
            "order": null,
            "overflow": null,
            "overflow_x": null,
            "overflow_y": null,
            "padding": null,
            "right": null,
            "top": null,
            "visibility": null,
            "width": "200px"
          }
        },
        "2aad5d296ee84b65b131332a0088ed46": {
          "model_module": "@jupyter-widgets/controls",
          "model_name": "ButtonStyleModel",
          "model_module_version": "1.5.0",
          "state": {
            "_model_module": "@jupyter-widgets/controls",
            "_model_module_version": "1.5.0",
            "_model_name": "ButtonStyleModel",
            "_view_count": null,
            "_view_module": "@jupyter-widgets/base",
            "_view_module_version": "1.2.0",
            "_view_name": "StyleView",
            "button_color": null,
            "font_weight": ""
          }
        },
        "d6ccc035170941c09340ba22cef59eb0": {
          "model_module": "@jupyter-widgets/output",
          "model_name": "OutputModel",
          "model_module_version": "1.0.0",
          "state": {
            "_dom_classes": [],
            "_model_module": "@jupyter-widgets/output",
            "_model_module_version": "1.0.0",
            "_model_name": "OutputModel",
            "_view_count": null,
            "_view_module": "@jupyter-widgets/output",
            "_view_module_version": "1.0.0",
            "_view_name": "OutputView",
            "layout": "IPY_MODEL_7c86afc4227145b2befa0522311fbd81",
            "msg_id": "",
            "outputs": [
              {
                "output_type": "stream",
                "name": "stdout",
                "text": [
                  "Pulling model: qwen2.5:1.5b\n",
                  "This may take a while depending on the model size...\n"
                ]
              },
              {
                "output_type": "stream",
                "name": "stdout",
                "text": [
                  "\u001b[?2026h\u001b[?25l\u001b[1Gpulling manifest ⠋ \u001b[K\u001b[?25h\u001b[?2026l\u001b[?2026h\u001b[?25l\u001b[1Gpulling manifest ⠙ \u001b[K\u001b[?25h\u001b[?2026l"
                ]
              },
              {
                "output_type": "stream",
                "name": "stdout",
                "text": [
                  "\u001b[?2026h\u001b[?25l\u001b[1Gpulling manifest ⠹ \u001b[K\u001b[?25h\u001b[?2026l\u001b[?2026h\u001b[?25l\u001b[1Gpulling manifest ⠸ \u001b[K\u001b[?25h\u001b[?2026l"
                ]
              },
              {
                "output_type": "stream",
                "name": "stdout",
                "text": [
                  "\u001b[?2026h\u001b[?25l\u001b[1Gpulling manifest ⠼ \u001b[K\u001b[?25h\u001b[?2026l\u001b[?2026h\u001b[?25l\u001b[1Gpulling manifest ⠴ \u001b[K\u001b[?25h\u001b[?2026l\u001b[?2026h\u001b[?25l\u001b[1Gpulling manifest ⠦ \u001b[K\u001b[?25h\u001b[?2026l"
                ]
              },
              {
                "output_type": "stream",
                "name": "stdout",
                "text": [
                  "\u001b[?2026h\u001b[?25l\u001b[1Gpulling manifest ⠧ \u001b[K\u001b[?25h\u001b[?2026l\u001b[?2026h\u001b[?25l\u001b[1Gpulling manifest \u001b[K\n",
                  "pulling 183715c43589...   0% ▕▏    0 B/986 MB                  \u001b[K\u001b[?25h\u001b[?2026l\u001b[?2026h\u001b[?25l\u001b[A\u001b[1Gpulling manifest \u001b[K\n",
                  "pulling 183715c43589...   0% ▕▏    0 B/986 MB                  \u001b[K\u001b[?25h\u001b[?2026l"
                ]
              },
              {
                "output_type": "stream",
                "name": "stdout",
                "text": [
                  "\u001b[?2026h\u001b[?25l\u001b[A\u001b[1Gpulling manifest \u001b[K\n",
                  "pulling 183715c43589...   0% ▕▏    0 B/986 MB                  \u001b[K\u001b[?25h\u001b[?2026l\u001b[?2026h\u001b[?25l\u001b[A\u001b[1Gpulling manifest \u001b[K\n",
                  "pulling 183715c43589...   1% ▕▏  13 MB/986 MB                  \u001b[K\u001b[?25h\u001b[?2026l"
                ]
              },
              {
                "output_type": "stream",
                "name": "stdout",
                "text": [
                  "\u001b[?2026h\u001b[?25l\u001b[A\u001b[1Gpulling manifest \u001b[K\n",
                  "pulling 183715c43589...   4% ▕▏  41 MB/986 MB                  \u001b[K\u001b[?25h\u001b[?2026l\u001b[?2026h\u001b[?25l\u001b[A\u001b[1Gpulling manifest \u001b[K\n",
                  "pulling 183715c43589...   9% ▕▏  93 MB/986 MB                  \u001b[K\u001b[?25h\u001b[?2026l"
                ]
              },
              {
                "output_type": "stream",
                "name": "stdout",
                "text": [
                  "\u001b[?2026h\u001b[?25l\u001b[A\u001b[1Gpulling manifest \u001b[K\n",
                  "pulling 183715c43589...  12% ▕▏ 121 MB/986 MB                  \u001b[K\u001b[?25h\u001b[?2026l\u001b[?2026h\u001b[?25l\u001b[A\u001b[1Gpulling manifest \u001b[K\n",
                  "pulling 183715c43589...  13% ▕▏ 131 MB/986 MB                  \u001b[K\u001b[?25h\u001b[?2026l"
                ]
              },
              {
                "output_type": "stream",
                "name": "stdout",
                "text": [
                  "\u001b[?2026h\u001b[?25l\u001b[A\u001b[1Gpulling manifest \u001b[K\n",
                  "pulling 183715c43589...  17% ▕▏ 164 MB/986 MB                  \u001b[K\u001b[?25h\u001b[?2026l\u001b[?2026h\u001b[?25l\u001b[A\u001b[1Gpulling manifest \u001b[K\n",
                  "pulling 183715c43589...  21% ▕▏ 204 MB/986 MB                  \u001b[K\u001b[?25h\u001b[?2026l\u001b[?2026h\u001b[?25l\u001b[A\u001b[1Gpulling manifest \u001b[K\n",
                  "pulling 183715c43589...  22% ▕▏ 221 MB/986 MB  221 MB/s      3s\u001b[K\u001b[?25h\u001b[?2026l"
                ]
              },
              {
                "output_type": "stream",
                "name": "stdout",
                "text": [
                  "\u001b[?2026h\u001b[?25l\u001b[A\u001b[1Gpulling manifest \u001b[K\n",
                  "pulling 183715c43589...  27% ▕▏ 266 MB/986 MB  221 MB/s      3s\u001b[K\u001b[?25h\u001b[?2026l\u001b[?2026h\u001b[?25l\u001b[A\u001b[1Gpulling manifest \u001b[K\n",
                  "pulling 183715c43589...  32% ▕▏ 315 MB/986 MB  221 MB/s      3s\u001b[K\u001b[?25h\u001b[?2026l\u001b[?2026h\u001b[?25l\u001b[A\u001b[1Gpulling manifest \u001b[K\n",
                  "pulling 183715c43589...  35% ▕▏ 346 MB/986 MB  221 MB/s      2s\u001b[K\u001b[?25h\u001b[?2026l"
                ]
              },
              {
                "output_type": "stream",
                "name": "stdout",
                "text": [
                  "\u001b[?2026h\u001b[?25l\u001b[A\u001b[1Gpulling manifest \u001b[K\n",
                  "pulling 183715c43589...  37% ▕▏ 366 MB/986 MB  221 MB/s      2s\u001b[K\u001b[?25h\u001b[?2026l\u001b[?2026h\u001b[?25l\u001b[A\u001b[1Gpulling manifest \u001b[K\n",
                  "pulling 183715c43589...  42% ▕▏ 411 MB/986 MB  221 MB/s      2s\u001b[K\u001b[?25h\u001b[?2026l"
                ]
              },
              {
                "output_type": "stream",
                "name": "stdout",
                "text": [
                  "\u001b[?2026h\u001b[?25l\u001b[A\u001b[1Gpulling manifest \u001b[K\n",
                  "pulling 183715c43589...  43% ▕▏ 423 MB/986 MB  221 MB/s      2s\u001b[K\u001b[?25h\u001b[?2026l\u001b[?2026h\u001b[?25l\u001b[A\u001b[1Gpulling manifest \u001b[K\n",
                  "pulling 183715c43589...  47% ▕▏ 462 MB/986 MB  221 MB/s      2s\u001b[K\u001b[?25h\u001b[?2026l\u001b[?2026h\u001b[?25l\u001b[A\u001b[1Gpulling manifest \u001b[K\n",
                  "pulling 183715c43589...  50% ▕▏ 493 MB/986 MB  221 MB/s      2s\u001b[K\u001b[?25h\u001b[?2026l"
                ]
              },
              {
                "output_type": "stream",
                "name": "stdout",
                "text": [
                  "\u001b[?2026h\u001b[?25l\u001b[A\u001b[1Gpulling manifest \u001b[K\n",
                  "pulling 183715c43589...  53% ▕▏ 519 MB/986 MB  221 MB/s      2s\u001b[K\u001b[?25h\u001b[?2026l\u001b[?2026h\u001b[?25l\u001b[A\u001b[1Gpulling manifest \u001b[K\n",
                  "pulling 183715c43589...  55% ▕▏ 541 MB/986 MB  270 MB/s      1s\u001b[K\u001b[?25h\u001b[?2026l"
                ]
              },
              {
                "output_type": "stream",
                "name": "stdout",
                "text": [
                  "\u001b[?2026h\u001b[?25l\u001b[A\u001b[1Gpulling manifest \u001b[K\n",
                  "pulling 183715c43589...  58% ▕▏ 570 MB/986 MB  270 MB/s      1s\u001b[K\u001b[?25h\u001b[?2026l\u001b[?2026h\u001b[?25l\u001b[A\u001b[1Gpulling manifest \u001b[K\n",
                  "pulling 183715c43589...  60% ▕▏ 589 MB/986 MB  270 MB/s      1s\u001b[K\u001b[?25h\u001b[?2026l\u001b[?2026h\u001b[?25l\u001b[A\u001b[1Gpulling manifest \u001b[K\n",
                  "pulling 183715c43589...  64% ▕▏ 627 MB/986 MB  270 MB/s      1s\u001b[K\u001b[?25h\u001b[?2026l"
                ]
              },
              {
                "output_type": "stream",
                "name": "stdout",
                "text": [
                  "\u001b[?2026h\u001b[?25l\u001b[A\u001b[1Gpulling manifest \u001b[K\n",
                  "pulling 183715c43589...  66% ▕▏ 655 MB/986 MB  270 MB/s      1s\u001b[K\u001b[?25h\u001b[?2026l\u001b[?2026h\u001b[?25l\u001b[A\u001b[1Gpulling manifest \u001b[K\n",
                  "pulling 183715c43589...  68% ▕▏ 674 MB/986 MB  270 MB/s      1s\u001b[K\u001b[?25h\u001b[?2026l\u001b[?2026h\u001b[?25l\u001b[A\u001b[1Gpulling manifest \u001b[K\n",
                  "pulling 183715c43589...  71% ▕▏ 702 MB/986 MB  270 MB/s      1s\u001b[K\u001b[?25h\u001b[?2026l"
                ]
              },
              {
                "output_type": "stream",
                "name": "stdout",
                "text": [
                  "\u001b[?2026h\u001b[?25l\u001b[A\u001b[1Gpulling manifest \u001b[K\n",
                  "pulling 183715c43589...  74% ▕▏ 729 MB/986 MB  270 MB/s      0s\u001b[K\u001b[?25h\u001b[?2026l\u001b[?2026h\u001b[?25l\u001b[A\u001b[1Gpulling manifest \u001b[K\n",
                  "pulling 183715c43589...  76% ▕▏ 746 MB/986 MB  270 MB/s      0s\u001b[K\u001b[?25h\u001b[?2026l"
                ]
              },
              {
                "output_type": "stream",
                "name": "stdout",
                "text": [
                  "\u001b[?2026h\u001b[?25l\u001b[A\u001b[1Gpulling manifest \u001b[K\n",
                  "pulling 183715c43589...  79% ▕▏ 778 MB/986 MB  270 MB/s      0s\u001b[K\u001b[?25h\u001b[?2026l\u001b[?2026h\u001b[?25l\u001b[A\u001b[1Gpulling manifest \u001b[K\n",
                  "pulling 183715c43589...  82% ▕▏ 805 MB/986 MB  268 MB/s      0s\u001b[K\u001b[?25h\u001b[?2026l"
                ]
              },
              {
                "output_type": "stream",
                "name": "stdout",
                "text": [
                  "\u001b[?2026h\u001b[?25l\u001b[A\u001b[1Gpulling manifest \u001b[K\n",
                  "pulling 183715c43589...  85% ▕▏ 840 MB/986 MB  268 MB/s      0s\u001b[K\u001b[?25h\u001b[?2026l\u001b[?2026h\u001b[?25l\u001b[A\u001b[1Gpulling manifest \u001b[K\n",
                  "pulling 183715c43589...  87% ▕▏ 856 MB/986 MB  268 MB/s      0s\u001b[K\u001b[?25h\u001b[?2026l\u001b[?2026h\u001b[?25l\u001b[A\u001b[1Gpulling manifest \u001b[K\n",
                  "pulling 183715c43589...  90% ▕▏ 885 MB/986 MB  268 MB/s      0s\u001b[K\u001b[?25h\u001b[?2026l"
                ]
              },
              {
                "output_type": "stream",
                "name": "stdout",
                "text": [
                  "\u001b[?2026h\u001b[?25l\u001b[A\u001b[1Gpulling manifest \u001b[K\n",
                  "pulling 183715c43589...  93% ▕▏ 912 MB/986 MB  268 MB/s      0s\u001b[K\u001b[?25h\u001b[?2026l\u001b[?2026h\u001b[?25l\u001b[A\u001b[1Gpulling manifest \u001b[K\n",
                  "pulling 183715c43589...  93% ▕▏ 919 MB/986 MB  268 MB/s      0s\u001b[K\u001b[?25h\u001b[?2026l"
                ]
              },
              {
                "output_type": "stream",
                "name": "stdout",
                "text": [
                  "\u001b[?2026h\u001b[?25l\u001b[A\u001b[1Gpulling manifest \u001b[K\n",
                  "pulling 183715c43589...  95% ▕▏ 935 MB/986 MB  268 MB/s      0s\u001b[K\u001b[?25h\u001b[?2026l\u001b[?2026h\u001b[?25l\u001b[A\u001b[1Gpulling manifest \u001b[K\n",
                  "pulling 183715c43589...  96% ▕▏ 944 MB/986 MB  268 MB/s      0s\u001b[K\u001b[?25h\u001b[?2026l"
                ]
              },
              {
                "output_type": "stream",
                "name": "stdout",
                "text": [
                  "\u001b[?2026h\u001b[?25l\u001b[A\u001b[1Gpulling manifest \u001b[K\n",
                  "pulling 183715c43589...  96% ▕▏ 947 MB/986 MB  268 MB/s      0s\u001b[K\u001b[?25h\u001b[?2026l\u001b[?2026h\u001b[?25l\u001b[A\u001b[1Gpulling manifest \u001b[K\n",
                  "pulling 183715c43589...  97% ▕▏ 957 MB/986 MB  268 MB/s      0s\u001b[K\u001b[?25h\u001b[?2026l\u001b[?2026h\u001b[?25l\u001b[A\u001b[1Gpulling manifest \u001b[K\n",
                  "pulling 183715c43589...  98% ▕▏ 963 MB/986 MB  240 MB/s      0s\u001b[K\u001b[?25h\u001b[?2026l"
                ]
              },
              {
                "output_type": "stream",
                "name": "stdout",
                "text": [
                  "\u001b[?2026h\u001b[?25l\u001b[A\u001b[1Gpulling manifest \u001b[K\n",
                  "pulling 183715c43589...  98% ▕▏ 967 MB/986 MB  240 MB/s      0s\u001b[K\u001b[?25h\u001b[?2026l\u001b[?2026h\u001b[?25l\u001b[A\u001b[1Gpulling manifest \u001b[K\n",
                  "pulling 183715c43589...  99% ▕▏ 973 MB/986 MB  240 MB/s      0s\u001b[K\u001b[?25h\u001b[?2026l"
                ]
              },
              {
                "output_type": "stream",
                "name": "stdout",
                "text": [
                  "\u001b[?2026h\u001b[?25l\u001b[A\u001b[1Gpulling manifest \u001b[K\n",
                  "pulling 183715c43589...  99% ▕▏ 981 MB/986 MB  240 MB/s      0s\u001b[K\u001b[?25h\u001b[?2026l\u001b[?2026h\u001b[?25l\u001b[A\u001b[1Gpulling manifest \u001b[K\n",
                  "pulling 183715c43589... 100% ▕▏ 984 MB/986 MB  240 MB/s      0s\u001b[K\u001b[?25h\u001b[?2026l"
                ]
              },
              {
                "output_type": "stream",
                "name": "stdout",
                "text": [
                  "\u001b[?2026h\u001b[?25l\u001b[A\u001b[1Gpulling manifest \u001b[K\n",
                  "pulling 183715c43589... 100% ▕▏ 986 MB                         \u001b[K\u001b[?25h\u001b[?2026l\u001b[?2026h\u001b[?25l\u001b[A\u001b[1Gpulling manifest \u001b[K\n",
                  "pulling 183715c43589... 100% ▕▏ 986 MB                         \u001b[K\u001b[?25h\u001b[?2026l"
                ]
              },
              {
                "output_type": "stream",
                "name": "stdout",
                "text": [
                  "\u001b[?2026h\u001b[?25l\u001b[A\u001b[1Gpulling manifest \u001b[K\n",
                  "pulling 183715c43589... 100% ▕▏ 986 MB                         \u001b[K\u001b[?25h\u001b[?2026l\u001b[?2026h\u001b[?25l\u001b[A\u001b[1Gpulling manifest \u001b[K\n",
                  "pulling 183715c43589... 100% ▕▏ 986 MB                         \u001b[K\u001b[?25h\u001b[?2026l\u001b[?2026h\u001b[?25l\u001b[A\u001b[1Gpulling manifest \u001b[K\n",
                  "pulling 183715c43589... 100% ▕▏ 986 MB                         \u001b[K\u001b[?25h\u001b[?2026l"
                ]
              },
              {
                "output_type": "stream",
                "name": "stdout",
                "text": [
                  "\u001b[?2026h\u001b[?25l\u001b[A\u001b[1Gpulling manifest \u001b[K\n",
                  "pulling 183715c43589... 100% ▕▏ 986 MB                         \u001b[K\u001b[?25h\u001b[?2026l\u001b[?2026h\u001b[?25l\u001b[A\u001b[1Gpulling manifest \u001b[K\n",
                  "pulling 183715c43589... 100% ▕▏ 986 MB                         \u001b[K\u001b[?25h\u001b[?2026l"
                ]
              },
              {
                "output_type": "stream",
                "name": "stdout",
                "text": [
                  "\u001b[?2026h\u001b[?25l\u001b[A\u001b[1Gpulling manifest \u001b[K\n",
                  "pulling 183715c43589... 100% ▕▏ 986 MB                         \u001b[K\n",
                  "pulling 66b9ea09bd5b...   0% ▕▏    0 B/  68 B                  \u001b[K\u001b[?25h\u001b[?2026l\u001b[?2026h\u001b[?25l\u001b[A\u001b[A\u001b[1Gpulling manifest \u001b[K\n",
                  "pulling 183715c43589... 100% ▕▏ 986 MB                         \u001b[K\n",
                  "pulling 66b9ea09bd5b...   0% ▕▏    0 B/  68 B                  \u001b[K\u001b[?25h\u001b[?2026l\u001b[?2026h\u001b[?25l\u001b[A\u001b[A\u001b[1Gpulling manifest \u001b[K\n",
                  "pulling 183715c43589... 100% ▕▏ 986 MB                         \u001b[K\n",
                  "pulling 66b9ea09bd5b...   0% ▕▏    0 B/  68 B                  \u001b[K\u001b[?25h\u001b[?2026l"
                ]
              },
              {
                "output_type": "stream",
                "name": "stdout",
                "text": [
                  "\u001b[?2026h\u001b[?25l\u001b[A\u001b[A\u001b[1Gpulling manifest \u001b[K\n",
                  "pulling 183715c43589... 100% ▕▏ 986 MB                         \u001b[K\n",
                  "pulling 66b9ea09bd5b... 100% ▕▏   68 B                         \u001b[K\u001b[?25h\u001b[?2026l\u001b[?2026h\u001b[?25l\u001b[A\u001b[A\u001b[1Gpulling manifest \u001b[K\n",
                  "pulling 183715c43589... 100% ▕▏ 986 MB                         \u001b[K\n",
                  "pulling 66b9ea09bd5b... 100% ▕▏   68 B                         \u001b[K\u001b[?25h\u001b[?2026l"
                ]
              },
              {
                "output_type": "stream",
                "name": "stdout",
                "text": [
                  "\u001b[?2026h\u001b[?25l\u001b[A\u001b[A\u001b[1Gpulling manifest \u001b[K\n",
                  "pulling 183715c43589... 100% ▕▏ 986 MB                         \u001b[K\n",
                  "pulling 66b9ea09bd5b... 100% ▕▏   68 B                         \u001b[K\u001b[?25h\u001b[?2026l\u001b[?2026h\u001b[?25l\u001b[A\u001b[A\u001b[1Gpulling manifest \u001b[K\n",
                  "pulling 183715c43589... 100% ▕▏ 986 MB                         \u001b[K\n",
                  "pulling 66b9ea09bd5b... 100% ▕▏   68 B                         \u001b[K\u001b[?25h\u001b[?2026l"
                ]
              },
              {
                "output_type": "stream",
                "name": "stdout",
                "text": [
                  "\u001b[?2026h\u001b[?25l\u001b[A\u001b[A\u001b[1Gpulling manifest \u001b[K\n",
                  "pulling 183715c43589... 100% ▕▏ 986 MB                         \u001b[K\n",
                  "pulling 66b9ea09bd5b... 100% ▕▏   68 B                         \u001b[K\u001b[?25h\u001b[?2026l\u001b[?2026h\u001b[?25l\u001b[A\u001b[A\u001b[1Gpulling manifest \u001b[K\n",
                  "pulling 183715c43589... 100% ▕▏ 986 MB                         \u001b[K\n",
                  "pulling 66b9ea09bd5b... 100% ▕▏   68 B                         \u001b[K\u001b[?25h\u001b[?2026l"
                ]
              },
              {
                "output_type": "stream",
                "name": "stdout",
                "text": [
                  "\u001b[?2026h\u001b[?25l\u001b[A\u001b[A\u001b[1Gpulling manifest \u001b[K\n",
                  "pulling 183715c43589... 100% ▕▏ 986 MB                         \u001b[K\n",
                  "pulling 66b9ea09bd5b... 100% ▕▏   68 B                         \u001b[K\u001b[?25h\u001b[?2026l\u001b[?2026h\u001b[?25l\u001b[A\u001b[A\u001b[1Gpulling manifest \u001b[K\n",
                  "pulling 183715c43589... 100% ▕▏ 986 MB                         \u001b[K\n",
                  "pulling 66b9ea09bd5b... 100% ▕▏   68 B                         \u001b[K\u001b[?25h\u001b[?2026l"
                ]
              },
              {
                "output_type": "stream",
                "name": "stdout",
                "text": [
                  "\u001b[?2026h\u001b[?25l\u001b[A\u001b[A\u001b[1Gpulling manifest \u001b[K\n",
                  "pulling 183715c43589... 100% ▕▏ 986 MB                         \u001b[K\n",
                  "pulling 66b9ea09bd5b... 100% ▕▏   68 B                         \u001b[K\u001b[?25h\u001b[?2026l\u001b[?2026h\u001b[?25l\u001b[A\u001b[A\u001b[1Gpulling manifest \u001b[K\n",
                  "pulling 183715c43589... 100% ▕▏ 986 MB                         \u001b[K\n",
                  "pulling 66b9ea09bd5b... 100% ▕▏   68 B                         \u001b[K\u001b[?25h\u001b[?2026l"
                ]
              },
              {
                "output_type": "stream",
                "name": "stdout",
                "text": [
                  "\u001b[?2026h\u001b[?25l\u001b[A\u001b[A\u001b[1Gpulling manifest \u001b[K\n",
                  "pulling 183715c43589... 100% ▕▏ 986 MB                         \u001b[K\n",
                  "pulling 66b9ea09bd5b... 100% ▕▏   68 B                         \u001b[K\n",
                  "pulling eb4402837c78...   0% ▕▏    0 B/1.5 KB                  \u001b[K\u001b[?25h\u001b[?2026l\u001b[?2026h\u001b[?25l\u001b[A\u001b[A\u001b[A\u001b[1Gpulling manifest \u001b[K\n",
                  "pulling 183715c43589... 100% ▕▏ 986 MB                         \u001b[K\n",
                  "pulling 66b9ea09bd5b... 100% ▕▏   68 B                         \u001b[K\n",
                  "pulling eb4402837c78...   0% ▕▏    0 B/1.5 KB                  \u001b[K\u001b[?25h\u001b[?2026l"
                ]
              },
              {
                "output_type": "stream",
                "name": "stdout",
                "text": [
                  "\u001b[?2026h\u001b[?25l\u001b[A\u001b[A\u001b[A\u001b[1Gpulling manifest \u001b[K\n",
                  "pulling 183715c43589... 100% ▕▏ 986 MB                         \u001b[K\n",
                  "pulling 66b9ea09bd5b... 100% ▕▏   68 B                         \u001b[K\n",
                  "pulling eb4402837c78...   0% ▕▏    0 B/1.5 KB                  \u001b[K\u001b[?25h\u001b[?2026l\u001b[?2026h\u001b[?25l\u001b[A\u001b[A\u001b[A\u001b[1Gpulling manifest \u001b[K\n",
                  "pulling 183715c43589... 100% ▕▏ 986 MB                         \u001b[K\n",
                  "pulling 66b9ea09bd5b... 100% ▕▏   68 B                         \u001b[K\n",
                  "pulling eb4402837c78...   0% ▕▏    0 B/1.5 KB                  \u001b[K\u001b[?25h\u001b[?2026l"
                ]
              },
              {
                "output_type": "stream",
                "name": "stdout",
                "text": [
                  "\u001b[?2026h\u001b[?25l\u001b[A\u001b[A\u001b[A\u001b[1Gpulling manifest \u001b[K\n",
                  "pulling 183715c43589... 100% ▕▏ 986 MB                         \u001b[K\n",
                  "pulling 66b9ea09bd5b... 100% ▕▏   68 B                         \u001b[K\n",
                  "pulling eb4402837c78... 100% ▕▏ 1.5 KB                         \u001b[K\u001b[?25h\u001b[?2026l\u001b[?2026h\u001b[?25l\u001b[A\u001b[A\u001b[A\u001b[1Gpulling manifest \u001b[K\n",
                  "pulling 183715c43589... 100% ▕▏ 986 MB                         \u001b[K\n",
                  "pulling 66b9ea09bd5b... 100% ▕▏   68 B                         \u001b[K\n",
                  "pulling eb4402837c78... 100% ▕▏ 1.5 KB                         \u001b[K\u001b[?25h\u001b[?2026l"
                ]
              },
              {
                "output_type": "stream",
                "name": "stdout",
                "text": [
                  "\u001b[?2026h\u001b[?25l\u001b[A\u001b[A\u001b[A\u001b[1Gpulling manifest \u001b[K\n",
                  "pulling 183715c43589... 100% ▕▏ 986 MB                         \u001b[K\n",
                  "pulling 66b9ea09bd5b... 100% ▕▏   68 B                         \u001b[K\n",
                  "pulling eb4402837c78... 100% ▕▏ 1.5 KB                         \u001b[K\u001b[?25h\u001b[?2026l\u001b[?2026h\u001b[?25l\u001b[A\u001b[A\u001b[A\u001b[1Gpulling manifest \u001b[K\n",
                  "pulling 183715c43589... 100% ▕▏ 986 MB                         \u001b[K\n",
                  "pulling 66b9ea09bd5b... 100% ▕▏   68 B                         \u001b[K\n",
                  "pulling eb4402837c78... 100% ▕▏ 1.5 KB                         \u001b[K\u001b[?25h\u001b[?2026l\u001b[?2026h\u001b[?25l\u001b[A\u001b[A\u001b[A\u001b[1Gpulling manifest \u001b[K\n",
                  "pulling 183715c43589... 100% ▕▏ 986 MB                         \u001b[K\n",
                  "pulling 66b9ea09bd5b... 100% ▕▏   68 B                         \u001b[K\n",
                  "pulling eb4402837c78... 100% ▕▏ 1.5 KB                         \u001b[K\u001b[?25h\u001b[?2026l"
                ]
              },
              {
                "output_type": "stream",
                "name": "stdout",
                "text": [
                  "\u001b[?2026h\u001b[?25l\u001b[A\u001b[A\u001b[A\u001b[1Gpulling manifest \u001b[K\n",
                  "pulling 183715c43589... 100% ▕▏ 986 MB                         \u001b[K\n",
                  "pulling 66b9ea09bd5b... 100% ▕▏   68 B                         \u001b[K\n",
                  "pulling eb4402837c78... 100% ▕▏ 1.5 KB                         \u001b[K\u001b[?25h\u001b[?2026l\u001b[?2026h\u001b[?25l\u001b[A\u001b[A\u001b[A\u001b[1Gpulling manifest \u001b[K\n",
                  "pulling 183715c43589... 100% ▕▏ 986 MB                         \u001b[K\n",
                  "pulling 66b9ea09bd5b... 100% ▕▏   68 B                         \u001b[K\n",
                  "pulling eb4402837c78... 100% ▕▏ 1.5 KB                         \u001b[K\u001b[?25h\u001b[?2026l"
                ]
              },
              {
                "output_type": "stream",
                "name": "stdout",
                "text": [
                  "\u001b[?2026h\u001b[?25l\u001b[A\u001b[A\u001b[A\u001b[1Gpulling manifest \u001b[K\n",
                  "pulling 183715c43589... 100% ▕▏ 986 MB                         \u001b[K\n",
                  "pulling 66b9ea09bd5b... 100% ▕▏   68 B                         \u001b[K\n",
                  "pulling eb4402837c78... 100% ▕▏ 1.5 KB                         \u001b[K\u001b[?25h\u001b[?2026l\u001b[?2026h\u001b[?25l\u001b[A\u001b[A\u001b[A\u001b[1Gpulling manifest \u001b[K\n",
                  "pulling 183715c43589... 100% ▕▏ 986 MB                         \u001b[K\n",
                  "pulling 66b9ea09bd5b... 100% ▕▏   68 B                         \u001b[K\n",
                  "pulling eb4402837c78... 100% ▕▏ 1.5 KB                         \u001b[K\u001b[?25h\u001b[?2026l"
                ]
              },
              {
                "output_type": "stream",
                "name": "stdout",
                "text": [
                  "\u001b[?2026h\u001b[?25l\u001b[A\u001b[A\u001b[A\u001b[1Gpulling manifest \u001b[K\n",
                  "pulling 183715c43589... 100% ▕▏ 986 MB                         \u001b[K\n",
                  "pulling 66b9ea09bd5b... 100% ▕▏   68 B                         \u001b[K\n",
                  "pulling eb4402837c78... 100% ▕▏ 1.5 KB                         \u001b[K\n",
                  "pulling 832dd9e00a68...   0% ▕▏    0 B/ 11 KB                  \u001b[K\u001b[?25h\u001b[?2026l\u001b[?2026h\u001b[?25l\u001b[A\u001b[A\u001b[A\u001b[A\u001b[1Gpulling manifest \u001b[K\n",
                  "pulling 183715c43589... 100% ▕▏ 986 MB                         \u001b[K\n",
                  "pulling 66b9ea09bd5b... 100% ▕▏   68 B                         \u001b[K\n",
                  "pulling eb4402837c78... 100% ▕▏ 1.5 KB                         \u001b[K\n",
                  "pulling 832dd9e00a68...   0% ▕▏    0 B/ 11 KB                  \u001b[K\u001b[?25h\u001b[?2026l"
                ]
              },
              {
                "output_type": "stream",
                "name": "stdout",
                "text": [
                  "\u001b[?2026h\u001b[?25l\u001b[A\u001b[A\u001b[A\u001b[A\u001b[1Gpulling manifest \u001b[K\n",
                  "pulling 183715c43589... 100% ▕▏ 986 MB                         \u001b[K\n",
                  "pulling 66b9ea09bd5b... 100% ▕▏   68 B                         \u001b[K\n",
                  "pulling eb4402837c78... 100% ▕▏ 1.5 KB                         \u001b[K\n",
                  "pulling 832dd9e00a68... 100% ▕▏  11 KB                         \u001b[K\u001b[?25h\u001b[?2026l\u001b[?2026h\u001b[?25l\u001b[A\u001b[A\u001b[A\u001b[A\u001b[1Gpulling manifest \u001b[K\n",
                  "pulling 183715c43589... 100% ▕▏ 986 MB                         \u001b[K\n",
                  "pulling 66b9ea09bd5b... 100% ▕▏   68 B                         \u001b[K\n",
                  "pulling eb4402837c78... 100% ▕▏ 1.5 KB                         \u001b[K\n",
                  "pulling 832dd9e00a68... 100% ▕▏  11 KB                         \u001b[K\u001b[?25h\u001b[?2026l\u001b[?2026h\u001b[?25l\u001b[A\u001b[A\u001b[A\u001b[A\u001b[1Gpulling manifest \u001b[K\n",
                  "pulling 183715c43589... 100% ▕▏ 986 MB                         \u001b[K\n",
                  "pulling 66b9ea09bd5b... 100% ▕▏   68 B                         \u001b[K\n",
                  "pulling eb4402837c78... 100% ▕▏ 1.5 KB                         \u001b[K\n",
                  "pulling 832dd9e00a68... 100% ▕▏  11 KB                         \u001b[K\u001b[?25h\u001b[?2026l"
                ]
              },
              {
                "output_type": "stream",
                "name": "stdout",
                "text": [
                  "\u001b[?2026h\u001b[?25l\u001b[A\u001b[A\u001b[A\u001b[A\u001b[1Gpulling manifest \u001b[K\n",
                  "pulling 183715c43589... 100% ▕▏ 986 MB                         \u001b[K\n",
                  "pulling 66b9ea09bd5b... 100% ▕▏   68 B                         \u001b[K\n",
                  "pulling eb4402837c78... 100% ▕▏ 1.5 KB                         \u001b[K\n",
                  "pulling 832dd9e00a68... 100% ▕▏  11 KB                         \u001b[K\u001b[?25h\u001b[?2026l\u001b[?2026h\u001b[?25l\u001b[A\u001b[A\u001b[A\u001b[A\u001b[1Gpulling manifest \u001b[K\n",
                  "pulling 183715c43589... 100% ▕▏ 986 MB                         \u001b[K\n",
                  "pulling 66b9ea09bd5b... 100% ▕▏   68 B                         \u001b[K\n",
                  "pulling eb4402837c78... 100% ▕▏ 1.5 KB                         \u001b[K\n",
                  "pulling 832dd9e00a68... 100% ▕▏  11 KB                         \u001b[K\u001b[?25h\u001b[?2026l"
                ]
              },
              {
                "output_type": "stream",
                "name": "stdout",
                "text": [
                  "\u001b[?2026h\u001b[?25l\u001b[A\u001b[A\u001b[A\u001b[A\u001b[1Gpulling manifest \u001b[K\n",
                  "pulling 183715c43589... 100% ▕▏ 986 MB                         \u001b[K\n",
                  "pulling 66b9ea09bd5b... 100% ▕▏   68 B                         \u001b[K\n",
                  "pulling eb4402837c78... 100% ▕▏ 1.5 KB                         \u001b[K\n",
                  "pulling 832dd9e00a68... 100% ▕▏  11 KB                         \u001b[K\u001b[?25h\u001b[?2026l\u001b[?2026h\u001b[?25l\u001b[A\u001b[A\u001b[A\u001b[A\u001b[1Gpulling manifest \u001b[K\n",
                  "pulling 183715c43589... 100% ▕▏ 986 MB                         \u001b[K\n",
                  "pulling 66b9ea09bd5b... 100% ▕▏   68 B                         \u001b[K\n",
                  "pulling eb4402837c78... 100% ▕▏ 1.5 KB                         \u001b[K\n",
                  "pulling 832dd9e00a68... 100% ▕▏  11 KB                         \u001b[K\u001b[?25h\u001b[?2026l"
                ]
              },
              {
                "output_type": "stream",
                "name": "stdout",
                "text": [
                  "\u001b[?2026h\u001b[?25l\u001b[A\u001b[A\u001b[A\u001b[A\u001b[1Gpulling manifest \u001b[K\n",
                  "pulling 183715c43589... 100% ▕▏ 986 MB                         \u001b[K\n",
                  "pulling 66b9ea09bd5b... 100% ▕▏   68 B                         \u001b[K\n",
                  "pulling eb4402837c78... 100% ▕▏ 1.5 KB                         \u001b[K\n",
                  "pulling 832dd9e00a68... 100% ▕▏  11 KB                         \u001b[K\u001b[?25h\u001b[?2026l\u001b[?2026h\u001b[?25l\u001b[A\u001b[A\u001b[A\u001b[A\u001b[1Gpulling manifest \u001b[K\n",
                  "pulling 183715c43589... 100% ▕▏ 986 MB                         \u001b[K\n",
                  "pulling 66b9ea09bd5b... 100% ▕▏   68 B                         \u001b[K\n",
                  "pulling eb4402837c78... 100% ▕▏ 1.5 KB                         \u001b[K\n",
                  "pulling 832dd9e00a68... 100% ▕▏  11 KB                         \u001b[K\u001b[?25h\u001b[?2026l\u001b[?2026h\u001b[?25l\u001b[A\u001b[A\u001b[A\u001b[A\u001b[1Gpulling manifest \u001b[K\n",
                  "pulling 183715c43589... 100% ▕▏ 986 MB                         \u001b[K\n",
                  "pulling 66b9ea09bd5b... 100% ▕▏   68 B                         \u001b[K\n",
                  "pulling eb4402837c78... 100% ▕▏ 1.5 KB                         \u001b[K\n",
                  "pulling 832dd9e00a68... 100% ▕▏  11 KB                         \u001b[K\u001b[?25h\u001b[?2026l"
                ]
              },
              {
                "output_type": "stream",
                "name": "stdout",
                "text": [
                  "\u001b[?2026h\u001b[?25l\u001b[A\u001b[A\u001b[A\u001b[A\u001b[1Gpulling manifest \u001b[K\n",
                  "pulling 183715c43589... 100% ▕▏ 986 MB                         \u001b[K\n",
                  "pulling 66b9ea09bd5b... 100% ▕▏   68 B                         \u001b[K\n",
                  "pulling eb4402837c78... 100% ▕▏ 1.5 KB                         \u001b[K\n",
                  "pulling 832dd9e00a68... 100% ▕▏  11 KB                         \u001b[K\u001b[?25h\u001b[?2026l\u001b[?2026h\u001b[?25l\u001b[A\u001b[A\u001b[A\u001b[A\u001b[1Gpulling manifest \u001b[K\n",
                  "pulling 183715c43589... 100% ▕▏ 986 MB                         \u001b[K\n",
                  "pulling 66b9ea09bd5b... 100% ▕▏   68 B                         \u001b[K\n",
                  "pulling eb4402837c78... 100% ▕▏ 1.5 KB                         \u001b[K\n",
                  "pulling 832dd9e00a68... 100% ▕▏  11 KB                         \u001b[K\n",
                  "pulling 377ac4d7aeef...   0% ▕▏    0 B/ 487 B                  \u001b[K\u001b[?25h\u001b[?2026l"
                ]
              },
              {
                "output_type": "stream",
                "name": "stdout",
                "text": [
                  "\u001b[?2026h\u001b[?25l\u001b[A\u001b[A\u001b[A\u001b[A\u001b[A\u001b[1Gpulling manifest \u001b[K\n",
                  "pulling 183715c43589... 100% ▕▏ 986 MB                         \u001b[K\n",
                  "pulling 66b9ea09bd5b... 100% ▕▏   68 B                         \u001b[K\n",
                  "pulling eb4402837c78... 100% ▕▏ 1.5 KB                         \u001b[K\n",
                  "pulling 832dd9e00a68... 100% ▕▏  11 KB                         \u001b[K\n",
                  "pulling 377ac4d7aeef...   0% ▕▏    0 B/ 487 B                  \u001b[K\u001b[?25h\u001b[?2026l\u001b[?2026h\u001b[?25l\u001b[A\u001b[A\u001b[A\u001b[A\u001b[A\u001b[1Gpulling manifest \u001b[K\n",
                  "pulling 183715c43589... 100% ▕▏ 986 MB                         \u001b[K\n",
                  "pulling 66b9ea09bd5b... 100% ▕▏   68 B                         \u001b[K\n",
                  "pulling eb4402837c78... 100% ▕▏ 1.5 KB                         \u001b[K\n",
                  "pulling 832dd9e00a68... 100% ▕▏  11 KB                         \u001b[K\n",
                  "pulling 377ac4d7aeef... 100% ▕▏  487 B                         \u001b[K\u001b[?25h\u001b[?2026l"
                ]
              },
              {
                "output_type": "stream",
                "name": "stdout",
                "text": [
                  "\u001b[?2026h\u001b[?25l\u001b[A\u001b[A\u001b[A\u001b[A\u001b[A\u001b[1Gpulling manifest \u001b[K\n",
                  "pulling 183715c43589... 100% ▕▏ 986 MB                         \u001b[K\n",
                  "pulling 66b9ea09bd5b... 100% ▕▏   68 B                         \u001b[K\n",
                  "pulling eb4402837c78... 100% ▕▏ 1.5 KB                         \u001b[K\n",
                  "pulling 832dd9e00a68... 100% ▕▏  11 KB                         \u001b[K\n",
                  "pulling 377ac4d7aeef... 100% ▕▏  487 B                         \u001b[K\u001b[?25h\u001b[?2026l\u001b[?2026h\u001b[?25l\u001b[A\u001b[A\u001b[A\u001b[A\u001b[A\u001b[1Gpulling manifest \u001b[K\n",
                  "pulling 183715c43589... 100% ▕▏ 986 MB                         \u001b[K\n",
                  "pulling 66b9ea09bd5b... 100% ▕▏   68 B                         \u001b[K\n",
                  "pulling eb4402837c78... 100% ▕▏ 1.5 KB                         \u001b[K\n",
                  "pulling 832dd9e00a68... 100% ▕▏  11 KB                         \u001b[K\n",
                  "pulling 377ac4d7aeef... 100% ▕▏  487 B                         \u001b[K\u001b[?25h\u001b[?2026l"
                ]
              },
              {
                "output_type": "stream",
                "name": "stdout",
                "text": [
                  "\u001b[?2026h\u001b[?25l\u001b[A\u001b[A\u001b[A\u001b[A\u001b[A\u001b[1Gpulling manifest \u001b[K\n",
                  "pulling 183715c43589... 100% ▕▏ 986 MB                         \u001b[K\n",
                  "pulling 66b9ea09bd5b... 100% ▕▏   68 B                         \u001b[K\n",
                  "pulling eb4402837c78... 100% ▕▏ 1.5 KB                         \u001b[K\n",
                  "pulling 832dd9e00a68... 100% ▕▏  11 KB                         \u001b[K\n",
                  "pulling 377ac4d7aeef... 100% ▕▏  487 B                         \u001b[K\u001b[?25h\u001b[?2026l\u001b[?2026h\u001b[?25l\u001b[A\u001b[A\u001b[A\u001b[A\u001b[A\u001b[1Gpulling manifest \u001b[K\n",
                  "pulling 183715c43589... 100% ▕▏ 986 MB                         \u001b[K\n",
                  "pulling 66b9ea09bd5b... 100% ▕▏   68 B                         \u001b[K\n",
                  "pulling eb4402837c78... 100% ▕▏ 1.5 KB                         \u001b[K\n",
                  "pulling 832dd9e00a68... 100% ▕▏  11 KB                         \u001b[K\n",
                  "pulling 377ac4d7aeef... 100% ▕▏  487 B                         \u001b[K\u001b[?25h\u001b[?2026l\u001b[?2026h\u001b[?25l\u001b[A\u001b[A\u001b[A\u001b[A\u001b[A\u001b[1Gpulling manifest \u001b[K\n",
                  "pulling 183715c43589... 100% ▕▏ 986 MB                         \u001b[K\n",
                  "pulling 66b9ea09bd5b... 100% ▕▏   68 B                         \u001b[K\n",
                  "pulling eb4402837c78... 100% ▕▏ 1.5 KB                         \u001b[K\n",
                  "pulling 832dd9e00a68... 100% ▕▏  11 KB                         \u001b[K\n",
                  "pulling 377ac4d7aeef... 100% ▕▏  487 B                         \u001b[K\u001b[?25h\u001b[?2026l"
                ]
              },
              {
                "output_type": "stream",
                "name": "stdout",
                "text": [
                  "\u001b[?2026h\u001b[?25l\u001b[A\u001b[A\u001b[A\u001b[A\u001b[A\u001b[1Gpulling manifest \u001b[K\n",
                  "pulling 183715c43589... 100% ▕▏ 986 MB                         \u001b[K\n",
                  "pulling 66b9ea09bd5b... 100% ▕▏   68 B                         \u001b[K\n",
                  "pulling eb4402837c78... 100% ▕▏ 1.5 KB                         \u001b[K\n",
                  "pulling 832dd9e00a68... 100% ▕▏  11 KB                         \u001b[K\n",
                  "pulling 377ac4d7aeef... 100% ▕▏  487 B                         \u001b[K\u001b[?25h\u001b[?2026l\u001b[?2026h\u001b[?25l\u001b[A\u001b[A\u001b[A\u001b[A\u001b[A\u001b[1Gpulling manifest \u001b[K\n",
                  "pulling 183715c43589... 100% ▕▏ 986 MB                         \u001b[K\n",
                  "pulling 66b9ea09bd5b... 100% ▕▏   68 B                         \u001b[K\n",
                  "pulling eb4402837c78... 100% ▕▏ 1.5 KB                         \u001b[K\n",
                  "pulling 832dd9e00a68... 100% ▕▏  11 KB                         \u001b[K\n",
                  "pulling 377ac4d7aeef... 100% ▕▏  487 B                         \u001b[K\u001b[?25h\u001b[?2026l"
                ]
              },
              {
                "output_type": "stream",
                "name": "stdout",
                "text": [
                  "\u001b[?2026h\u001b[?25l\u001b[A\u001b[A\u001b[A\u001b[A\u001b[A\u001b[1Gpulling manifest \u001b[K\n",
                  "pulling 183715c43589... 100% ▕▏ 986 MB                         \u001b[K\n",
                  "pulling 66b9ea09bd5b... 100% ▕▏   68 B                         \u001b[K\n",
                  "pulling eb4402837c78... 100% ▕▏ 1.5 KB                         \u001b[K\n",
                  "pulling 832dd9e00a68... 100% ▕▏  11 KB                         \u001b[K\n",
                  "pulling 377ac4d7aeef... 100% ▕▏  487 B                         \u001b[K\n",
                  "verifying sha256 digest ⠋ \u001b[K\u001b[?25h\u001b[?2026l\u001b[?2026h\u001b[?25l\u001b[A\u001b[A\u001b[A\u001b[A\u001b[A\u001b[A\u001b[1Gpulling manifest \u001b[K\n",
                  "pulling 183715c43589... 100% ▕▏ 986 MB                         \u001b[K\n",
                  "pulling 66b9ea09bd5b... 100% ▕▏   68 B                         \u001b[K\n",
                  "pulling eb4402837c78... 100% ▕▏ 1.5 KB                         \u001b[K\n",
                  "pulling 832dd9e00a68... 100% ▕▏  11 KB                         \u001b[K\n",
                  "pulling 377ac4d7aeef... 100% ▕▏  487 B                         \u001b[K\n",
                  "verifying sha256 digest ⠙ \u001b[K\u001b[?25h\u001b[?2026l\u001b[?2026h\u001b[?25l\u001b[A\u001b[A\u001b[A\u001b[A\u001b[A\u001b[A\u001b[1Gpulling manifest \u001b[K\n",
                  "pulling 183715c43589... 100% ▕▏ 986 MB                         \u001b[K\n",
                  "pulling 66b9ea09bd5b... 100% ▕▏   68 B                         \u001b[K\n",
                  "pulling eb4402837c78... 100% ▕▏ 1.5 KB                         \u001b[K\n",
                  "pulling 832dd9e00a68... 100% ▕▏  11 KB                         \u001b[K\n",
                  "pulling 377ac4d7aeef... 100% ▕▏  487 B                         \u001b[K\n",
                  "verifying sha256 digest ⠹ \u001b[K\u001b[?25h\u001b[?2026l"
                ]
              },
              {
                "output_type": "stream",
                "name": "stdout",
                "text": [
                  "\u001b[?2026h\u001b[?25l\u001b[A\u001b[A\u001b[A\u001b[A\u001b[A\u001b[A\u001b[1Gpulling manifest \u001b[K\n",
                  "pulling 183715c43589... 100% ▕▏ 986 MB                         \u001b[K\n",
                  "pulling 66b9ea09bd5b... 100% ▕▏   68 B                         \u001b[K\n",
                  "pulling eb4402837c78... 100% ▕▏ 1.5 KB                         \u001b[K\n",
                  "pulling 832dd9e00a68... 100% ▕▏  11 KB                         \u001b[K\n",
                  "pulling 377ac4d7aeef... 100% ▕▏  487 B                         \u001b[K\n",
                  "verifying sha256 digest ⠸ \u001b[K\u001b[?25h\u001b[?2026l\u001b[?2026h\u001b[?25l\u001b[A\u001b[A\u001b[A\u001b[A\u001b[A\u001b[A\u001b[1Gpulling manifest \u001b[K\n",
                  "pulling 183715c43589... 100% ▕▏ 986 MB                         \u001b[K\n",
                  "pulling 66b9ea09bd5b... 100% ▕▏   68 B                         \u001b[K\n",
                  "pulling eb4402837c78... 100% ▕▏ 1.5 KB                         \u001b[K\n",
                  "pulling 832dd9e00a68... 100% ▕▏  11 KB                         \u001b[K\n",
                  "pulling 377ac4d7aeef... 100% ▕▏  487 B                         \u001b[K\n",
                  "verifying sha256 digest ⠼ \u001b[K\u001b[?25h\u001b[?2026l"
                ]
              },
              {
                "output_type": "stream",
                "name": "stdout",
                "text": [
                  "\u001b[?2026h\u001b[?25l\u001b[A\u001b[A\u001b[A\u001b[A\u001b[A\u001b[A\u001b[1Gpulling manifest \u001b[K\n",
                  "pulling 183715c43589... 100% ▕▏ 986 MB                         \u001b[K\n",
                  "pulling 66b9ea09bd5b... 100% ▕▏   68 B                         \u001b[K\n",
                  "pulling eb4402837c78... 100% ▕▏ 1.5 KB                         \u001b[K\n",
                  "pulling 832dd9e00a68... 100% ▕▏  11 KB                         \u001b[K\n",
                  "pulling 377ac4d7aeef... 100% ▕▏  487 B                         \u001b[K\n",
                  "verifying sha256 digest ⠴ \u001b[K\u001b[?25h\u001b[?2026l\u001b[?2026h\u001b[?25l\u001b[A\u001b[A\u001b[A\u001b[A\u001b[A\u001b[A\u001b[1Gpulling manifest \u001b[K\n",
                  "pulling 183715c43589... 100% ▕▏ 986 MB                         \u001b[K\n",
                  "pulling 66b9ea09bd5b... 100% ▕▏   68 B                         \u001b[K\n",
                  "pulling eb4402837c78... 100% ▕▏ 1.5 KB                         \u001b[K\n",
                  "pulling 832dd9e00a68... 100% ▕▏  11 KB                         \u001b[K\n",
                  "pulling 377ac4d7aeef... 100% ▕▏  487 B                         \u001b[K\n",
                  "verifying sha256 digest ⠦ \u001b[K\u001b[?25h\u001b[?2026l\u001b[?2026h\u001b[?25l\u001b[A\u001b[A\u001b[A\u001b[A\u001b[A\u001b[A\u001b[1Gpulling manifest \u001b[K\n",
                  "pulling 183715c43589... 100% ▕▏ 986 MB                         \u001b[K\n",
                  "pulling 66b9ea09bd5b... 100% ▕▏   68 B                         \u001b[K\n",
                  "pulling eb4402837c78... 100% ▕▏ 1.5 KB                         \u001b[K\n",
                  "pulling 832dd9e00a68... 100% ▕▏  11 KB                         \u001b[K\n",
                  "pulling 377ac4d7aeef... 100% ▕▏  487 B                         \u001b[K\n",
                  "verifying sha256 digest ⠧ \u001b[K\u001b[?25h\u001b[?2026l"
                ]
              },
              {
                "output_type": "stream",
                "name": "stdout",
                "text": [
                  "\u001b[?2026h\u001b[?25l\u001b[A\u001b[A\u001b[A\u001b[A\u001b[A\u001b[A\u001b[1Gpulling manifest \u001b[K\n",
                  "pulling 183715c43589... 100% ▕▏ 986 MB                         \u001b[K\n",
                  "pulling 66b9ea09bd5b... 100% ▕▏   68 B                         \u001b[K\n",
                  "pulling eb4402837c78... 100% ▕▏ 1.5 KB                         \u001b[K\n",
                  "pulling 832dd9e00a68... 100% ▕▏  11 KB                         \u001b[K\n",
                  "pulling 377ac4d7aeef... 100% ▕▏  487 B                         \u001b[K\n",
                  "verifying sha256 digest ⠇ \u001b[K\u001b[?25h\u001b[?2026l\u001b[?2026h\u001b[?25l\u001b[A\u001b[A\u001b[A\u001b[A\u001b[A\u001b[A\u001b[1Gpulling manifest \u001b[K\n",
                  "pulling 183715c43589... 100% ▕▏ 986 MB                         \u001b[K\n",
                  "pulling 66b9ea09bd5b... 100% ▕▏   68 B                         \u001b[K\n",
                  "pulling eb4402837c78... 100% ▕▏ 1.5 KB                         \u001b[K\n",
                  "pulling 832dd9e00a68... 100% ▕▏  11 KB                         \u001b[K\n",
                  "pulling 377ac4d7aeef... 100% ▕▏  487 B                         \u001b[K\n",
                  "verifying sha256 digest ⠏ \u001b[K\u001b[?25h\u001b[?2026l"
                ]
              },
              {
                "output_type": "stream",
                "name": "stdout",
                "text": [
                  "\u001b[?2026h\u001b[?25l\u001b[A\u001b[A\u001b[A\u001b[A\u001b[A\u001b[A\u001b[1Gpulling manifest \u001b[K\n",
                  "pulling 183715c43589... 100% ▕▏ 986 MB                         \u001b[K\n",
                  "pulling 66b9ea09bd5b... 100% ▕▏   68 B                         \u001b[K\n",
                  "pulling eb4402837c78... 100% ▕▏ 1.5 KB                         \u001b[K\n",
                  "pulling 832dd9e00a68... 100% ▕▏  11 KB                         \u001b[K\n",
                  "pulling 377ac4d7aeef... 100% ▕▏  487 B                         \u001b[K\n",
                  "verifying sha256 digest ⠋ \u001b[K\u001b[?25h\u001b[?2026l\u001b[?2026h\u001b[?25l\u001b[A\u001b[A\u001b[A\u001b[A\u001b[A\u001b[A\u001b[1Gpulling manifest \u001b[K\n",
                  "pulling 183715c43589... 100% ▕▏ 986 MB                         \u001b[K\n",
                  "pulling 66b9ea09bd5b... 100% ▕▏   68 B                         \u001b[K\n",
                  "pulling eb4402837c78... 100% ▕▏ 1.5 KB                         \u001b[K\n",
                  "pulling 832dd9e00a68... 100% ▕▏  11 KB                         \u001b[K\n",
                  "pulling 377ac4d7aeef... 100% ▕▏  487 B                         \u001b[K\n",
                  "verifying sha256 digest ⠙ \u001b[K\u001b[?25h\u001b[?2026l\u001b[?2026h\u001b[?25l\u001b[A\u001b[A\u001b[A\u001b[A\u001b[A\u001b[A\u001b[1Gpulling manifest \u001b[K\n",
                  "pulling 183715c43589... 100% ▕▏ 986 MB                         \u001b[K\n",
                  "pulling 66b9ea09bd5b... 100% ▕▏   68 B                         \u001b[K\n",
                  "pulling eb4402837c78... 100% ▕▏ 1.5 KB                         \u001b[K\n",
                  "pulling 832dd9e00a68... 100% ▕▏  11 KB                         \u001b[K\n",
                  "pulling 377ac4d7aeef... 100% ▕▏  487 B                         \u001b[K\n",
                  "verifying sha256 digest ⠹ \u001b[K\u001b[?25h\u001b[?2026l"
                ]
              },
              {
                "output_type": "stream",
                "name": "stdout",
                "text": [
                  "\u001b[?2026h\u001b[?25l\u001b[A\u001b[A\u001b[A\u001b[A\u001b[A\u001b[A\u001b[1Gpulling manifest \u001b[K\n",
                  "pulling 183715c43589... 100% ▕▏ 986 MB                         \u001b[K\n",
                  "pulling 66b9ea09bd5b... 100% ▕▏   68 B                         \u001b[K\n",
                  "pulling eb4402837c78... 100% ▕▏ 1.5 KB                         \u001b[K\n",
                  "pulling 832dd9e00a68... 100% ▕▏  11 KB                         \u001b[K\n",
                  "pulling 377ac4d7aeef... 100% ▕▏  487 B                         \u001b[K\n",
                  "verifying sha256 digest ⠸ \u001b[K\u001b[?25h\u001b[?2026l\u001b[?2026h\u001b[?25l\u001b[A\u001b[A\u001b[A\u001b[A\u001b[A\u001b[A\u001b[1Gpulling manifest \u001b[K\n",
                  "pulling 183715c43589... 100% ▕▏ 986 MB                         \u001b[K\n",
                  "pulling 66b9ea09bd5b... 100% ▕▏   68 B                         \u001b[K\n",
                  "pulling eb4402837c78... 100% ▕▏ 1.5 KB                         \u001b[K\n",
                  "pulling 832dd9e00a68... 100% ▕▏  11 KB                         \u001b[K\n",
                  "pulling 377ac4d7aeef... 100% ▕▏  487 B                         \u001b[K\n",
                  "verifying sha256 digest ⠼ \u001b[K\u001b[?25h\u001b[?2026l"
                ]
              },
              {
                "output_type": "stream",
                "name": "stdout",
                "text": [
                  "\u001b[?2026h\u001b[?25l\u001b[A\u001b[A\u001b[A\u001b[A\u001b[A\u001b[A\u001b[1Gpulling manifest \u001b[K\n",
                  "pulling 183715c43589... 100% ▕▏ 986 MB                         \u001b[K\n",
                  "pulling 66b9ea09bd5b... 100% ▕▏   68 B                         \u001b[K\n",
                  "pulling eb4402837c78... 100% ▕▏ 1.5 KB                         \u001b[K\n",
                  "pulling 832dd9e00a68... 100% ▕▏  11 KB                         \u001b[K\n",
                  "pulling 377ac4d7aeef... 100% ▕▏  487 B                         \u001b[K\n",
                  "verifying sha256 digest ⠴ \u001b[K\u001b[?25h\u001b[?2026l\u001b[?2026h\u001b[?25l\u001b[A\u001b[A\u001b[A\u001b[A\u001b[A\u001b[A\u001b[1Gpulling manifest \u001b[K\n",
                  "pulling 183715c43589... 100% ▕▏ 986 MB                         \u001b[K\n",
                  "pulling 66b9ea09bd5b... 100% ▕▏   68 B                         \u001b[K\n",
                  "pulling eb4402837c78... 100% ▕▏ 1.5 KB                         \u001b[K\n",
                  "pulling 832dd9e00a68... 100% ▕▏  11 KB                         \u001b[K\n",
                  "pulling 377ac4d7aeef... 100% ▕▏  487 B                         \u001b[K\n",
                  "verifying sha256 digest ⠦ \u001b[K\u001b[?25h\u001b[?2026l\u001b[?2026h\u001b[?25l\u001b[A\u001b[A\u001b[A\u001b[A\u001b[A\u001b[A\u001b[1Gpulling manifest \u001b[K\n",
                  "pulling 183715c43589... 100% ▕▏ 986 MB                         \u001b[K\n",
                  "pulling 66b9ea09bd5b... 100% ▕▏   68 B                         \u001b[K\n",
                  "pulling eb4402837c78... 100% ▕▏ 1.5 KB                         \u001b[K\n",
                  "pulling 832dd9e00a68... 100% ▕▏  11 KB                         \u001b[K\n",
                  "pulling 377ac4d7aeef... 100% ▕▏  487 B                         \u001b[K\n",
                  "verifying sha256 digest ⠧ \u001b[K\u001b[?25h\u001b[?2026l"
                ]
              },
              {
                "output_type": "stream",
                "name": "stdout",
                "text": [
                  "\u001b[?2026h\u001b[?25l\u001b[A\u001b[A\u001b[A\u001b[A\u001b[A\u001b[A\u001b[1Gpulling manifest \u001b[K\n",
                  "pulling 183715c43589... 100% ▕▏ 986 MB                         \u001b[K\n",
                  "pulling 66b9ea09bd5b... 100% ▕▏   68 B                         \u001b[K\n",
                  "pulling eb4402837c78... 100% ▕▏ 1.5 KB                         \u001b[K\n",
                  "pulling 832dd9e00a68... 100% ▕▏  11 KB                         \u001b[K\n",
                  "pulling 377ac4d7aeef... 100% ▕▏  487 B                         \u001b[K\n",
                  "verifying sha256 digest ⠇ \u001b[K\u001b[?25h\u001b[?2026l\u001b[?2026h\u001b[?25l\u001b[A\u001b[A\u001b[A\u001b[A\u001b[A\u001b[A\u001b[1Gpulling manifest \u001b[K\n",
                  "pulling 183715c43589... 100% ▕▏ 986 MB                         \u001b[K\n",
                  "pulling 66b9ea09bd5b... 100% ▕▏   68 B                         \u001b[K\n",
                  "pulling eb4402837c78... 100% ▕▏ 1.5 KB                         \u001b[K\n",
                  "pulling 832dd9e00a68... 100% ▕▏  11 KB                         \u001b[K\n",
                  "pulling 377ac4d7aeef... 100% ▕▏  487 B                         \u001b[K\n",
                  "verifying sha256 digest ⠏ \u001b[K\u001b[?25h\u001b[?2026l\u001b[?2026h\u001b[?25l\u001b[A\u001b[A\u001b[A\u001b[A\u001b[A\u001b[A\u001b[1Gpulling manifest \u001b[K\n",
                  "pulling 183715c43589... 100% ▕▏ 986 MB                         \u001b[K\n",
                  "pulling 66b9ea09bd5b... 100% ▕▏   68 B                         \u001b[K\n",
                  "pulling eb4402837c78... 100% ▕▏ 1.5 KB                         \u001b[K\n",
                  "pulling 832dd9e00a68... 100% ▕▏  11 KB                         \u001b[K\n",
                  "pulling 377ac4d7aeef... 100% ▕▏  487 B                         \u001b[K\n",
                  "verifying sha256 digest ⠋ \u001b[K\u001b[?25h\u001b[?2026l"
                ]
              },
              {
                "output_type": "stream",
                "name": "stdout",
                "text": [
                  "\u001b[?2026h\u001b[?25l\u001b[A\u001b[A\u001b[A\u001b[A\u001b[A\u001b[A\u001b[1Gpulling manifest \u001b[K\n",
                  "pulling 183715c43589... 100% ▕▏ 986 MB                         \u001b[K\n",
                  "pulling 66b9ea09bd5b... 100% ▕▏   68 B                         \u001b[K\n",
                  "pulling eb4402837c78... 100% ▕▏ 1.5 KB                         \u001b[K\n",
                  "pulling 832dd9e00a68... 100% ▕▏  11 KB                         \u001b[K\n",
                  "pulling 377ac4d7aeef... 100% ▕▏  487 B                         \u001b[K\n",
                  "verifying sha256 digest ⠙ \u001b[K\u001b[?25h\u001b[?2026l\u001b[?2026h\u001b[?25l\u001b[A\u001b[A\u001b[A\u001b[A\u001b[A\u001b[A\u001b[1Gpulling manifest \u001b[K\n",
                  "pulling 183715c43589... 100% ▕▏ 986 MB                         \u001b[K\n",
                  "pulling 66b9ea09bd5b... 100% ▕▏   68 B                         \u001b[K\n",
                  "pulling eb4402837c78... 100% ▕▏ 1.5 KB                         \u001b[K\n",
                  "pulling 832dd9e00a68... 100% ▕▏  11 KB                         \u001b[K\n",
                  "pulling 377ac4d7aeef... 100% ▕▏  487 B                         \u001b[K\n",
                  "verifying sha256 digest ⠹ \u001b[K\u001b[?25h\u001b[?2026l"
                ]
              },
              {
                "output_type": "stream",
                "name": "stdout",
                "text": [
                  "\u001b[?2026h\u001b[?25l\u001b[A\u001b[A\u001b[A\u001b[A\u001b[A\u001b[A\u001b[1Gpulling manifest \u001b[K\n",
                  "pulling 183715c43589... 100% ▕▏ 986 MB                         \u001b[K\n",
                  "pulling 66b9ea09bd5b... 100% ▕▏   68 B                         \u001b[K\n",
                  "pulling eb4402837c78... 100% ▕▏ 1.5 KB                         \u001b[K\n",
                  "pulling 832dd9e00a68... 100% ▕▏  11 KB                         \u001b[K\n",
                  "pulling 377ac4d7aeef... 100% ▕▏  487 B                         \u001b[K\n",
                  "verifying sha256 digest ⠸ \u001b[K\u001b[?25h\u001b[?2026l\u001b[?2026h\u001b[?25l\u001b[A\u001b[A\u001b[A\u001b[A\u001b[A\u001b[A\u001b[1Gpulling manifest \u001b[K\n",
                  "pulling 183715c43589... 100% ▕▏ 986 MB                         \u001b[K\n",
                  "pulling 66b9ea09bd5b... 100% ▕▏   68 B                         \u001b[K\n",
                  "pulling eb4402837c78... 100% ▕▏ 1.5 KB                         \u001b[K\n",
                  "pulling 832dd9e00a68... 100% ▕▏  11 KB                         \u001b[K\n",
                  "pulling 377ac4d7aeef... 100% ▕▏  487 B                         \u001b[K\n",
                  "verifying sha256 digest ⠼ \u001b[K\u001b[?25h\u001b[?2026l"
                ]
              },
              {
                "output_type": "stream",
                "name": "stdout",
                "text": [
                  "\u001b[?2026h\u001b[?25l\u001b[A\u001b[A\u001b[A\u001b[A\u001b[A\u001b[A\u001b[1Gpulling manifest \u001b[K\n",
                  "pulling 183715c43589... 100% ▕▏ 986 MB                         \u001b[K\n",
                  "pulling 66b9ea09bd5b... 100% ▕▏   68 B                         \u001b[K\n",
                  "pulling eb4402837c78... 100% ▕▏ 1.5 KB                         \u001b[K\n",
                  "pulling 832dd9e00a68... 100% ▕▏  11 KB                         \u001b[K\n",
                  "pulling 377ac4d7aeef... 100% ▕▏  487 B                         \u001b[K\n",
                  "verifying sha256 digest ⠴ \u001b[K\u001b[?25h\u001b[?2026l\u001b[?2026h\u001b[?25l\u001b[A\u001b[A\u001b[A\u001b[A\u001b[A\u001b[A\u001b[1Gpulling manifest \u001b[K\n",
                  "pulling 183715c43589... 100% ▕▏ 986 MB                         \u001b[K\n",
                  "pulling 66b9ea09bd5b... 100% ▕▏   68 B                         \u001b[K\n",
                  "pulling eb4402837c78... 100% ▕▏ 1.5 KB                         \u001b[K\n",
                  "pulling 832dd9e00a68... 100% ▕▏  11 KB                         \u001b[K\n",
                  "pulling 377ac4d7aeef... 100% ▕▏  487 B                         \u001b[K\n",
                  "verifying sha256 digest ⠦ \u001b[K\u001b[?25h\u001b[?2026l\u001b[?2026h\u001b[?25l\u001b[A\u001b[A\u001b[A\u001b[A\u001b[A\u001b[A\u001b[1Gpulling manifest \u001b[K\n",
                  "pulling 183715c43589... 100% ▕▏ 986 MB                         \u001b[K\n",
                  "pulling 66b9ea09bd5b... 100% ▕▏   68 B                         \u001b[K\n",
                  "pulling eb4402837c78... 100% ▕▏ 1.5 KB                         \u001b[K\n",
                  "pulling 832dd9e00a68... 100% ▕▏  11 KB                         \u001b[K\n",
                  "pulling 377ac4d7aeef... 100% ▕▏  487 B                         \u001b[K\n",
                  "verifying sha256 digest ⠧ \u001b[K\u001b[?25h\u001b[?2026l"
                ]
              },
              {
                "output_type": "stream",
                "name": "stdout",
                "text": [
                  "\u001b[?2026h\u001b[?25l\u001b[A\u001b[A\u001b[A\u001b[A\u001b[A\u001b[A\u001b[1Gpulling manifest \u001b[K\n",
                  "pulling 183715c43589... 100% ▕▏ 986 MB                         \u001b[K\n",
                  "pulling 66b9ea09bd5b... 100% ▕▏   68 B                         \u001b[K\n",
                  "pulling eb4402837c78... 100% ▕▏ 1.5 KB                         \u001b[K\n",
                  "pulling 832dd9e00a68... 100% ▕▏  11 KB                         \u001b[K\n",
                  "pulling 377ac4d7aeef... 100% ▕▏  487 B                         \u001b[K\n",
                  "verifying sha256 digest ⠇ \u001b[K\u001b[?25h\u001b[?2026l\u001b[?2026h\u001b[?25l\u001b[A\u001b[A\u001b[A\u001b[A\u001b[A\u001b[A\u001b[1Gpulling manifest \u001b[K\n",
                  "pulling 183715c43589... 100% ▕▏ 986 MB                         \u001b[K\n",
                  "pulling 66b9ea09bd5b... 100% ▕▏   68 B                         \u001b[K\n",
                  "pulling eb4402837c78... 100% ▕▏ 1.5 KB                         \u001b[K\n",
                  "pulling 832dd9e00a68... 100% ▕▏  11 KB                         \u001b[K\n",
                  "pulling 377ac4d7aeef... 100% ▕▏  487 B                         \u001b[K\n",
                  "verifying sha256 digest ⠏ \u001b[K\u001b[?25h\u001b[?2026l"
                ]
              },
              {
                "output_type": "stream",
                "name": "stdout",
                "text": [
                  "\u001b[?2026h\u001b[?25l\u001b[A\u001b[A\u001b[A\u001b[A\u001b[A\u001b[A\u001b[1Gpulling manifest \u001b[K\n",
                  "pulling 183715c43589... 100% ▕▏ 986 MB                         \u001b[K\n",
                  "pulling 66b9ea09bd5b... 100% ▕▏   68 B                         \u001b[K\n",
                  "pulling eb4402837c78... 100% ▕▏ 1.5 KB                         \u001b[K\n",
                  "pulling 832dd9e00a68... 100% ▕▏  11 KB                         \u001b[K\n",
                  "pulling 377ac4d7aeef... 100% ▕▏  487 B                         \u001b[K\n",
                  "verifying sha256 digest ⠋ \u001b[K\u001b[?25h\u001b[?2026l\u001b[?2026h\u001b[?25l\u001b[A\u001b[A\u001b[A\u001b[A\u001b[A\u001b[A\u001b[1Gpulling manifest \u001b[K\n",
                  "pulling 183715c43589... 100% ▕▏ 986 MB                         \u001b[K\n",
                  "pulling 66b9ea09bd5b... 100% ▕▏   68 B                         \u001b[K\n",
                  "pulling eb4402837c78... 100% ▕▏ 1.5 KB                         \u001b[K\n",
                  "pulling 832dd9e00a68... 100% ▕▏  11 KB                         \u001b[K\n",
                  "pulling 377ac4d7aeef... 100% ▕▏  487 B                         \u001b[K\n",
                  "verifying sha256 digest \u001b[K\n",
                  "writing manifest \u001b[K\n",
                  "success \u001b[K\u001b[?25h\u001b[?2026l\n"
                ]
              },
              {
                "output_type": "stream",
                "name": "stdout",
                "text": [
                  "\n",
                  "✅ Successfully pulled qwen2.5:1.5b and it's ready to use\n"
                ]
              }
            ]
          }
        },
        "7c86afc4227145b2befa0522311fbd81": {
          "model_module": "@jupyter-widgets/base",
          "model_name": "LayoutModel",
          "model_module_version": "1.2.0",
          "state": {
            "_model_module": "@jupyter-widgets/base",
            "_model_module_version": "1.2.0",
            "_model_name": "LayoutModel",
            "_view_count": null,
            "_view_module": "@jupyter-widgets/base",
            "_view_module_version": "1.2.0",
            "_view_name": "LayoutView",
            "align_content": null,
            "align_items": null,
            "align_self": null,
            "border": "1px solid #ddd",
            "bottom": null,
            "display": null,
            "flex": null,
            "flex_flow": null,
            "grid_area": null,
            "grid_auto_columns": null,
            "grid_auto_flow": null,
            "grid_auto_rows": null,
            "grid_column": null,
            "grid_gap": null,
            "grid_row": null,
            "grid_template_areas": null,
            "grid_template_columns": null,
            "grid_template_rows": null,
            "height": null,
            "justify_content": null,
            "justify_items": null,
            "left": null,
            "margin": null,
            "max_height": "300px",
            "max_width": null,
            "min_height": "100px",
            "min_width": null,
            "object_fit": null,
            "object_position": null,
            "order": null,
            "overflow": "auto",
            "overflow_x": null,
            "overflow_y": null,
            "padding": "10px",
            "right": null,
            "top": null,
            "visibility": null,
            "width": "500px"
          }
        }
      }
    }
  },
  "cells": [
    {
      "cell_type": "markdown",
      "metadata": {
        "id": "view-in-github",
        "colab_type": "text"
      },
      "source": [
        "<a href=\"https://colab.research.google.com/github/lingraphica/JSONKit/blob/master/Ollama_LLM_Sandbox.ipynb\" target=\"_parent\"><img src=\"https://colab.research.google.com/assets/colab-badge.svg\" alt=\"Open In Colab\"/></a>"
      ]
    },
    {
      "cell_type": "markdown",
      "source": [
        "# Ollama in Colab v0.2\n",
        "\n",
        "Notes: select the \"T4 GPU\" from Runtime > Change Runtime Type"
      ],
      "metadata": {
        "id": "4RSE2N_oksAv"
      }
    },
    {
      "cell_type": "code",
      "source": [
        "!ollama --version"
      ],
      "metadata": {
        "colab": {
          "base_uri": "https://localhost:8080/"
        },
        "id": "1xkS9GAgoS-x",
        "outputId": "6932ef6a-1e3e-4977-9028-d6e98c8d5394"
      },
      "execution_count": 1,
      "outputs": [
        {
          "output_type": "stream",
          "name": "stdout",
          "text": [
            "/bin/bash: line 1: ollama: command not found\n"
          ]
        }
      ]
    },
    {
      "cell_type": "code",
      "source": [
        "# only run this if \"!ollama --version\" returns an error, warnings are ok\n",
        "%%capture\n",
        "!apt-get update && apt-get install -y lshw\n",
        "!curl -fsSL https://ollama.com/install.sh | sh"
      ],
      "metadata": {
        "id": "FOYWeATvvHB-"
      },
      "execution_count": 2,
      "outputs": []
    },
    {
      "cell_type": "code",
      "source": [
        "!ollama serve > /dev/null 2>&1 &\n",
        "!pip install ollama"
      ],
      "metadata": {
        "colab": {
          "base_uri": "https://localhost:8080/"
        },
        "id": "fjIn8Z-39Ocp",
        "outputId": "75cf6274-750d-4614-e953-74e38f83f71f",
        "collapsed": true
      },
      "execution_count": 3,
      "outputs": [
        {
          "output_type": "stream",
          "name": "stdout",
          "text": [
            "Collecting ollama\n",
            "  Downloading ollama-0.4.8-py3-none-any.whl.metadata (4.7 kB)\n",
            "Requirement already satisfied: httpx<0.29,>=0.27 in /usr/local/lib/python3.11/dist-packages (from ollama) (0.28.1)\n",
            "Requirement already satisfied: pydantic<3.0.0,>=2.9.0 in /usr/local/lib/python3.11/dist-packages (from ollama) (2.11.3)\n",
            "Requirement already satisfied: anyio in /usr/local/lib/python3.11/dist-packages (from httpx<0.29,>=0.27->ollama) (4.9.0)\n",
            "Requirement already satisfied: certifi in /usr/local/lib/python3.11/dist-packages (from httpx<0.29,>=0.27->ollama) (2025.1.31)\n",
            "Requirement already satisfied: httpcore==1.* in /usr/local/lib/python3.11/dist-packages (from httpx<0.29,>=0.27->ollama) (1.0.7)\n",
            "Requirement already satisfied: idna in /usr/local/lib/python3.11/dist-packages (from httpx<0.29,>=0.27->ollama) (3.10)\n",
            "Requirement already satisfied: h11<0.15,>=0.13 in /usr/local/lib/python3.11/dist-packages (from httpcore==1.*->httpx<0.29,>=0.27->ollama) (0.14.0)\n",
            "Requirement already satisfied: annotated-types>=0.6.0 in /usr/local/lib/python3.11/dist-packages (from pydantic<3.0.0,>=2.9.0->ollama) (0.7.0)\n",
            "Requirement already satisfied: pydantic-core==2.33.1 in /usr/local/lib/python3.11/dist-packages (from pydantic<3.0.0,>=2.9.0->ollama) (2.33.1)\n",
            "Requirement already satisfied: typing-extensions>=4.12.2 in /usr/local/lib/python3.11/dist-packages (from pydantic<3.0.0,>=2.9.0->ollama) (4.13.1)\n",
            "Requirement already satisfied: typing-inspection>=0.4.0 in /usr/local/lib/python3.11/dist-packages (from pydantic<3.0.0,>=2.9.0->ollama) (0.4.0)\n",
            "Requirement already satisfied: sniffio>=1.1 in /usr/local/lib/python3.11/dist-packages (from anyio->httpx<0.29,>=0.27->ollama) (1.3.1)\n",
            "Downloading ollama-0.4.8-py3-none-any.whl (13 kB)\n",
            "Installing collected packages: ollama\n",
            "Successfully installed ollama-0.4.8\n"
          ]
        }
      ]
    },
    {
      "cell_type": "code",
      "source": [
        "import ollama\n",
        "import ipywidgets as widgets\n",
        "from IPython.display import display"
      ],
      "metadata": {
        "id": "_oBAyFnZphrZ"
      },
      "execution_count": 4,
      "outputs": []
    },
    {
      "cell_type": "markdown",
      "source": [
        "# run the next cell and then select a model to use"
      ],
      "metadata": {
        "id": "ad6d_2x5-Ab6"
      }
    },
    {
      "cell_type": "code",
      "source": [
        "# @title\n",
        "# Define a list of commonly used Ollama models\n",
        "available_models = [\n",
        "    \"deepseek-r1:1.5b\",\n",
        "    \"gemma3:1b\",\n",
        "    \"granite3.1-moe:1b\",\n",
        "    \"granite3.1-moe:3b\",\n",
        "    \"ollama llama3.2:1b\",\n",
        "    \"phi3\",\n",
        "    \"qwen2.5:0.5b\",\n",
        "    \"qwen2.5:1.5b\",\n",
        "    \"smollm2:1.7b\",\n",
        "    \"smollm2:135m\",\n",
        "    \"tinyllama\",\n",
        "    \"erwan2/DeepSeek-R1-Distill-Qwen-1.5B\"\n",
        "]\n",
        "\n",
        "# Create a dropdown widget for model selection\n",
        "model_dropdown = widgets.Dropdown(\n",
        "    options=available_models,\n",
        "    description='Select model:',\n",
        "    style={'description_width': 'initial'},\n",
        "    layout={'width': '300px'},\n",
        "    disabled=False\n",
        ")\n",
        "\n",
        "# Create a button to pull the selected model\n",
        "pull_button = widgets.Button(\n",
        "    description='Pull and Use Selected Model',\n",
        "    button_style='primary',\n",
        "    tooltip='Click to pull the selected model',\n",
        "    layout={'width': '200px', 'margin': '10px 0'}\n",
        ")\n",
        "\n",
        "# Create an output area for status messages\n",
        "output_area = widgets.Output(\n",
        "    layout={'border': '1px solid #ddd', 'width': '500px', 'min_height': '100px', 'max_height': '300px', 'overflow': 'auto', 'padding': '10px'}\n",
        ")\n",
        "\n",
        "# Define the button click handler\n",
        "def on_pull_button_click(b):\n",
        "    global model_name\n",
        "    model_name = model_dropdown.value\n",
        "    with output_area:\n",
        "        output_area.clear_output()\n",
        "        print(f\"Pulling model: {model_name}\")\n",
        "        print(\"This may take a while depending on the model size...\")\n",
        "        try:\n",
        "            # Execute the ollama pull command\n",
        "            !ollama pull {model_name}\n",
        "            print(f\"\\n✅ Successfully pulled {model_name} and it's ready to use\")\n",
        "        except Exception as e:\n",
        "            print(f\"\\n❌ Error pulling model: {e}\")\n",
        "\n",
        "# Connect the button click handler\n",
        "pull_button.on_click(on_pull_button_click)\n",
        "\n",
        "# Display the widgets\n",
        "print(\"🤖 Ollama Model Puller\")\n",
        "print(\"Select a model from the dropdown and click the button to pull and select it for use.\")\n",
        "display(model_dropdown)\n",
        "display(pull_button)\n",
        "display(output_area)"
      ],
      "metadata": {
        "cellView": "form",
        "id": "DPVsUxPIzSdv",
        "colab": {
          "base_uri": "https://localhost:8080/",
          "height": 455,
          "referenced_widgets": [
            "01ba7acd8d814fe6acbce3b55cf4632a",
            "4e2354a47f30415eb97d765577ddb386",
            "18deba622c864f2f9b5ee381d4d3e358",
            "eafd577d8f5d47beb6a4b6fe68e754cb",
            "4529b696e060435bb24a224273ef96d8",
            "2aad5d296ee84b65b131332a0088ed46",
            "d6ccc035170941c09340ba22cef59eb0",
            "7c86afc4227145b2befa0522311fbd81"
          ]
        },
        "outputId": "4e69fc6f-cba4-48d6-c152-6f66a0719d66"
      },
      "execution_count": 5,
      "outputs": [
        {
          "output_type": "stream",
          "name": "stdout",
          "text": [
            "🤖 Ollama Model Puller\n",
            "Select a model from the dropdown and click the button to pull and select it for use.\n"
          ]
        },
        {
          "output_type": "display_data",
          "data": {
            "text/plain": [
              "Dropdown(description='Select model:', layout=Layout(width='300px'), options=('deepseek-r1:1.5b', 'gemma3:1b', …"
            ],
            "application/vnd.jupyter.widget-view+json": {
              "version_major": 2,
              "version_minor": 0,
              "model_id": "01ba7acd8d814fe6acbce3b55cf4632a"
            }
          },
          "metadata": {}
        },
        {
          "output_type": "display_data",
          "data": {
            "text/plain": [
              "Button(button_style='primary', description='Pull and Use Selected Model', layout=Layout(margin='10px 0', width…"
            ],
            "application/vnd.jupyter.widget-view+json": {
              "version_major": 2,
              "version_minor": 0,
              "model_id": "eafd577d8f5d47beb6a4b6fe68e754cb"
            }
          },
          "metadata": {}
        },
        {
          "output_type": "display_data",
          "data": {
            "text/plain": [
              "Output(layout=Layout(border='1px solid #ddd', max_height='300px', min_height='100px', overflow='auto', padding…"
            ],
            "application/vnd.jupyter.widget-view+json": {
              "version_major": 2,
              "version_minor": 0,
              "model_id": "d6ccc035170941c09340ba22cef59eb0"
            }
          },
          "metadata": {}
        }
      ]
    },
    {
      "cell_type": "code",
      "source": [
        "# change to reflect the content of the tile you're interested in using\n",
        "tile_text = \"coffee\"\n",
        "tile_image = \"full cup of coffee\""
      ],
      "metadata": {
        "id": "FvgDqBbwymwb"
      },
      "execution_count": 8,
      "outputs": []
    },
    {
      "cell_type": "code",
      "source": [
        "#Generate a list of actionable phrases\n",
        "response = ollama.chat(model=model_name, messages=[\n",
        "    {\n",
        "        \"role\": \"system\",\n",
        "        \"content\": (f\"\"\"\n",
        "            You are a helpful assistant generating short phrases\n",
        "            I am person with aphasia using a speach generating device to communicate with another person\n",
        "            I've selected a {tile_text} tile on my device, what might I say to communicate my needs?\n",
        "            \"\"\"\n",
        "        )\n",
        "    },\n",
        "    {\n",
        "        \"role\": \"user\",\n",
        "        \"content\": (f\"\"\"\n",
        "\n",
        "            Generate three short actionable phrases, for me to select from to say\n",
        "            something about my needs related to {tile_text} and the image of a {tile_image}\n",
        "\n",
        "            Return your response as a JSON object in this format:\n",
        "            {{\n",
        "              \"phrases\": [\n",
        "                \"first phrase\",\n",
        "                \"second phrase\",\n",
        "                \"third phrase\"\n",
        "              ]\n",
        "            }}\n",
        "            \"\"\"\n",
        "        )\n",
        "    }\n",
        "])\n",
        "print(\"Model:\", model_name, \"\\n\")\n",
        "print(response['message']['content'])\n",
        "phrases = response['message']['content']"
      ],
      "metadata": {
        "colab": {
          "base_uri": "https://localhost:8080/"
        },
        "id": "QpYaNBzrlkut",
        "outputId": "19c64e19-372e-440c-ef32-e8e857964660"
      },
      "execution_count": 15,
      "outputs": [
        {
          "output_type": "stream",
          "name": "stdout",
          "text": [
            "Model: qwen2.5:1.5b \n",
            "\n",
            "```json\n",
            "{\n",
            "  \"phrases\": [\n",
            "    \"I would like a cup of coffee.\",\n",
            "    \"Can I have a full cup of coffee, please?\",\n",
            "    \"Do you have any coffee left?\"\n",
            "  ]\n",
            "}\n",
            "```\n"
          ]
        }
      ]
    },
    {
      "cell_type": "code",
      "source": [
        "response = ollama.chat(model=model_name, messages=[\n",
        "      {\n",
        "          \"role\": \"system\",\n",
        "          \"content\": (f\"\"\"\n",
        "              You are a helpful assistant generating short phrases\n",
        "              I am person with aphasia using a speech generating device to communicate with another person\n",
        "              I've selected a {tile_text} tile on my device, what might I say to communicate my needs?\n",
        "              \"\"\"\n",
        "          )\n",
        "      },\n",
        "      {\n",
        "          \"role\": \"user\",\n",
        "          \"content\": (f\"\"\"\n",
        "              I need new options. These previous phrases weren't quite right for me:\n",
        "              {phrases}\n",
        "\n",
        "              Generate three different short actionable phrases related to {tile_text} and the image of a {tile_image}.\n",
        "              Make these phrases distinct from the previous ones.\n",
        "\n",
        "              Return your response as a JSON object in this format:\n",
        "              {{\n",
        "                \"phrases\": [\n",
        "                  \"first phrase\",\n",
        "                  \"second phrase\",\n",
        "                  \"third phrase\"\n",
        "                ]\n",
        "              }}\n",
        "              \"\"\"\n",
        "          )\n",
        "      }\n",
        "  ])\n",
        "print(\"Model:\", model_name, \"\\n\")\n",
        "print(response['message']['content'])"
      ],
      "metadata": {
        "id": "8z0vu-GTwQex",
        "outputId": "31d22068-aecf-49e4-98c7-a882efa2f869",
        "colab": {
          "base_uri": "https://localhost:8080/"
        }
      },
      "execution_count": 16,
      "outputs": [
        {
          "output_type": "stream",
          "name": "stdout",
          "text": [
            "Model: qwen2.5:1.5b \n",
            "\n",
            "```json\n",
            "{\n",
            "  \"phrases\": [\n",
            "    \"I want more coffee.\",\n",
            "    \"Please add another cup of coffee, thank you.\",\n",
            "    \"Can I have a larger portion?\"\n",
            "  ]\n",
            "}\n",
            "```\n"
          ]
        }
      ]
    },
    {
      "cell_type": "code",
      "source": [
        "#Generate a problematic phrase\n",
        "phrases = '''{\n",
        "  \"phrases\": [\n",
        "    \"Abraham Lincoln was an alien.\"\n",
        "  ]\n",
        "}'''"
      ],
      "metadata": {
        "id": "Ggs9F5sAjXJ-"
      },
      "execution_count": 20,
      "outputs": []
    },
    {
      "cell_type": "code",
      "source": [
        "#Add guardrails around the previous responses\n",
        "response = ollama.chat(model=model_name, messages=[\n",
        "        {\n",
        "            \"role\": \"system\",\n",
        "            \"content\": (\"\"\"\n",
        "                You are a content safety guardian for an aphasia communication app.\n",
        "                Your job is to review phrases and ensure they are appropriate for users.\n",
        "                Evaluate each phrase carefully and determine if it's safe to display.\n",
        "                \"\"\"\n",
        "            )\n",
        "        },\n",
        "        {\n",
        "            \"role\": \"user\",\n",
        "            \"content\": (f\"\"\"\n",
        "                Review these phrases that were generated for an aphasia patient:\n",
        "                {phrases}\n",
        "\n",
        "                Check each phrase for:\n",
        "                - Inappropriate language or profanity\n",
        "                - Harmful, violent, or threatening content\n",
        "                - Overly negative or distressing messages\n",
        "                - Sexual or explicit content\n",
        "                - Content that could cause distress to vulnerable users\n",
        "\n",
        "                Return your response as a JSON object in this format:\n",
        "                {{\n",
        "                  \"is_safe\": true/false,\n",
        "                  \"reason\": \"Only provide a reason if is_safe is false. Otherwise leave this empty.\"\n",
        "                }}\n",
        "\n",
        "                If ALL phrases are safe, return with is_safe set to true.\n",
        "                If ANY phrase is problematic, return with is_safe set to false and briefly explain the issue.\n",
        "                \"\"\"\n",
        "            )\n",
        "        }\n",
        "    ])\n",
        "\n",
        "print(response['message']['content'])"
      ],
      "metadata": {
        "id": "fupu_SAxye8K",
        "outputId": "c3b29c31-2b79-4693-c0ca-0b59f9fc0feb",
        "colab": {
          "base_uri": "https://localhost:8080/"
        }
      },
      "execution_count": 19,
      "outputs": [
        {
          "output_type": "stream",
          "name": "stdout",
          "text": [
            "{\n",
            "  \"is_safe\": false,\n",
            "  \"reason\": \"The phrase contains an inappropriate reference to a historical figure as being from outer space.\"\n",
            "}\n"
          ]
        }
      ]
    }
  ]
}